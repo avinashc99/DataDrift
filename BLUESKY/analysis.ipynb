{
 "cells": [
  {
   "cell_type": "markdown",
   "metadata": {},
   "source": [
    "# BLUESKY\n",
    "\n",
    "This notebook demos the webscraping and analysis abilities of BLUESKY.\n",
    "BLUESKY is a Python package that returns information about vehicle prices."
   ]
  },
  {
   "cell_type": "code",
   "execution_count": 2,
   "metadata": {},
   "outputs": [],
   "source": [
    "# IMPORT STATEMENTS\n",
    "from BLUESKY.scrapers.bs4_scraper import scrape_data_payload\n",
    "from BLUESKY.scrapers.genurls import gen_cars_com_urls\n",
    "from BLUESKY.stats.clean import calc_pct_deltas, sort_trims, process_data_payload\n",
    "\n",
    "import matplotlib.pyplot as plt\n",
    "import pandas as pd\n",
    "import numpy as np"
   ]
  },
  {
   "cell_type": "markdown",
   "metadata": {},
   "source": [
    "Generating Target URLS to scrape from"
   ]
  },
  {
   "cell_type": "code",
   "execution_count": 53,
   "metadata": {},
   "outputs": [
    {
     "data": {
      "text/plain": [
       "['https://www.cars.com/shopping/results/?stock_type=all&makes=chevrolet&models=chevrolet-camaro&zip=15238&maximum_distance=250&page_size=40&clean_title=true&no_accidents=true&personal_use=true',\n",
       " 'https://www.cars.com/shopping/results/?stock_type=all&makes=chevrolet&models=chevrolet-camaro&zip=47907&maximum_distance=250&page_size=40&clean_title=true&no_accidents=true&personal_use=true',\n",
       " 'https://www.cars.com/shopping/results/?stock_type=all&makes=chevrolet&models=chevrolet-camaro&zip=78701&maximum_distance=250&page_size=40&clean_title=true&no_accidents=true&personal_use=true',\n",
       " 'https://www.cars.com/shopping/results/?stock_type=all&makes=chevrolet&models=chevrolet-camaro&zip=95814&maximum_distance=250&page_size=40&clean_title=true&no_accidents=true&personal_use=true',\n",
       " 'https://www.cars.com/shopping/results/?stock_type=all&makes=chevrolet&models=chevrolet-camaro&zip=14623&maximum_distance=250&page_size=40&clean_title=true&no_accidents=true&personal_use=true']"
      ]
     },
     "execution_count": 53,
     "metadata": {},
     "output_type": "execute_result"
    }
   ],
   "source": [
    "car_dict = {\n",
    "    #\"ford\": [\"mustang\", \"f_150\"],\n",
    "    \"chevrolet\": [\"camaro\"],\n",
    "    #\"toyota\": [\"camry\", \"supra\"],\n",
    "    #\"bmw\": [\"330\", \"z4\", \"430\", \"m340\", \"m440\",],\n",
    "    #\"audi\": [\"a4\", \"s4\", \"s3\", \"a5\", \"s5\"],\n",
    "    #\"audi\": [\"rs3\"]\n",
    "    #\"subaru\": [\"brz\"],\n",
    "    #\"acura\": [\"integra\"],\n",
    "    #\"lexus\": [\"rc_f\"],\n",
    "    #\"tesla\": [\"model_s\"],\n",
    "    #\"porsche\": [\"718_cayman\", \"718_boxster\"],\n",
    "}\n",
    "\n",
    "url_targets = gen_cars_com_urls(input_dict=car_dict)\n",
    "url_targets\n"
   ]
  },
  {
   "cell_type": "code",
   "execution_count": 54,
   "metadata": {},
   "outputs": [],
   "source": [
    "temp = scrape_data_payload(url_targets)"
   ]
  },
  {
   "cell_type": "markdown",
   "metadata": {},
   "source": [
    "Processing the scraped data"
   ]
  },
  {
   "cell_type": "code",
   "execution_count": 55,
   "metadata": {},
   "outputs": [],
   "source": [
    "columns = [\"make\", \"model\", \"model_year\", \"trim\", \"mileage\", \"price\", \"listing_id\", \"bodystyle\", ] \n",
    "\n",
    "df = pd.DataFrame(temp, columns=columns)"
   ]
  },
  {
   "cell_type": "code",
   "execution_count": 56,
   "metadata": {},
   "outputs": [],
   "source": [
    "scraped_results = {}\n",
    "cat_model_list = []\n",
    "for make in car_dict.keys():\n",
    "    for model in car_dict[make]:\n",
    "        filt = (df[\"make\"]==make) & (df[\"model\"]==model)\n",
    "        scraped_results[make+\"_\"+model] = df[filt]\n"
   ]
  },
  {
   "cell_type": "code",
   "execution_count": 76,
   "metadata": {},
   "outputs": [
    {
     "name": "stdout",
     "output_type": "stream",
     "text": [
      "('1ls', 2)\n",
      "('1lt', 51)\n",
      "('1ss', 27)\n",
      "('2ls', 4)\n",
      "('2lt', 22)\n",
      "('2ss', 33)\n",
      "('3lt', 2)\n",
      "('lt1', 20)\n",
      "('lz', 2)\n",
      "('rs', 4)\n",
      "('ss', 8)\n",
      "('z28', 8)\n",
      "('zl1', 17)\n"
     ]
    }
   ],
   "source": [
    "%%capture --no-stdout --no-display\n",
    "\n",
    "#m340 = scraped_results[\"bmw_m340\"]\n",
    "#m440 = scraped_results[\"bmw_m440\"]\n",
    "#a4 = scraped_results[\"audi_a4\"]\n",
    "#s3 = scraped_results[\"audi_s3\"]\n",
    "#camry = scraped_results[\"toyota_camry\"]\n",
    "#brzs = scraped_results[\"subaru_brz\"]\n",
    "#brzs.dropna(inplace=True)\n",
    "#rcfs = scraped_results[\"lexus_rc_f\"]\n",
    "#mustangs = scraped_results[\"ford_mustang\"]\n",
    "#models = scraped_results[\"tesla_model_s\"]\n",
    "#caymans = scraped_results[\"porsche_718_cayman\"]\n",
    "#boxsters = scraped_results[\"porsche_718_boxster\"]\n",
    "camaros = scraped_results[\"chevrolet_camaro\"]\n",
    "camaros = camaros.dropna()\n",
    "\n",
    "#m440_mod = sort_trims(m440)\n",
    "#a4 = sort_trims(a4)\n",
    "#camry = sort_trims(camry,spec=\"se\")\n",
    "#mustangs = sort_trims(mustangs,spec=\"ecoboost\")\n",
    "trims, counts = np.unique(np.array(camaros[\"trim\"]),return_counts=True)\n",
    "for e in zip(trims,counts):\n",
    "    print(e)\n",
    "\n",
    "camaros_trimmed = sort_trims(camaros, spec=\"lt1\")\n",
    "\n",
    "#m340 = calc_pct_deltas(m340)\n",
    "#m440 = calc_pct_deltas(m440)\n",
    "#a4 = calc_pct_deltas(a4)\n",
    "#s3 = calc_pct_deltas(s3)\n",
    "#camry = calc_pct_deltas(camry)\n",
    "#brzs = calc_pct_deltas(brzs)\n",
    "#rcfs = calc_pct_deltas(rcfs)\n",
    "#mustangs = calc_pct_deltas(mustangs)\n",
    "#models = calc_pct_deltas(models)\n",
    "#caymans = calc_pct_deltas(caymans)\n",
    "#boxsters = calc_pct_deltas(boxsters)\n",
    "camaros = calc_pct_deltas(camaros_trimmed)\n",
    "\n",
    "#boxsters.dropna(inplace=True)\n",
    "#caymans.dropna(inplace=True)"
   ]
  },
  {
   "cell_type": "code",
   "execution_count": 11,
   "metadata": {},
   "outputs": [],
   "source": [
    "#plt.figure(1)\n",
    "#plt.scatter(camry[\"year_delta\"], camry[\"price_pct\"])\n",
    "#plt.xlabel(\"years\")\n",
    "#plt.ylabel(\"pct depreciation\")\n",
    "#\n",
    "#plt.figure(2)\n",
    "#plt.scatter(camry[\"mileage\"].values.astype(float)/1000, camry[\"price_pct\"])\n",
    "#plt.xlabel(\"miles (1000s)\")\n",
    "#plt.ylabel(\"pct depreciation\")\n",
    "#\n",
    "#plt.figure(3)\n",
    "#ax = plt.axes(projection =\"3d\")\n",
    "#ax.scatter3D(camry[\"year_delta\"], camry[\"mileage\"].values.astype(float)/1000, camry[\"price_pct\"])\n",
    "\n"
   ]
  },
  {
   "cell_type": "code",
   "execution_count": 12,
   "metadata": {},
   "outputs": [],
   "source": [
    "from scipy.optimize import curve_fit\n",
    "import scipy.stats as stats"
   ]
  },
  {
   "cell_type": "code",
   "execution_count": 78,
   "metadata": {},
   "outputs": [],
   "source": [
    "def exp_decay(x,A,B,C):\n",
    "    \"\"\"Models exponential decay.\n",
    "\n",
    "    Args:\n",
    "        x: independant variable\n",
    "        A: A\n",
    "        B: B\n",
    "        C: C\n",
    "        \n",
    "    Returns:\n",
    "        dependant variable\n",
    "    \"\"\"\n",
    "    return A*np.exp(-B*x) - C\n",
    "\n",
    "y=camaros_trimmed[\"price\"]\n",
    "x=camaros_trimmed[\"mileage\"].values.astype(float)/1000\n",
    "\n",
    "popt, pcov = curve_fit(exp_decay,x,y,p0=[y.max(),1,1],)"
   ]
  },
  {
   "cell_type": "code",
   "execution_count": 79,
   "metadata": {},
   "outputs": [
    {
     "data": {
      "text/html": [
       "<div>\n",
       "<style scoped>\n",
       "    .dataframe tbody tr th:only-of-type {\n",
       "        vertical-align: middle;\n",
       "    }\n",
       "\n",
       "    .dataframe tbody tr th {\n",
       "        vertical-align: top;\n",
       "    }\n",
       "\n",
       "    .dataframe thead th {\n",
       "        text-align: right;\n",
       "    }\n",
       "</style>\n",
       "<table border=\"1\" class=\"dataframe\">\n",
       "  <thead>\n",
       "    <tr style=\"text-align: right;\">\n",
       "      <th></th>\n",
       "      <th>0</th>\n",
       "      <th>1</th>\n",
       "    </tr>\n",
       "  </thead>\n",
       "  <tbody>\n",
       "    <tr>\n",
       "      <th>13</th>\n",
       "      <td>0.672</td>\n",
       "      <td>42224.276915</td>\n",
       "    </tr>\n",
       "    <tr>\n",
       "      <th>0</th>\n",
       "      <td>0.755</td>\n",
       "      <td>42194.687201</td>\n",
       "    </tr>\n",
       "    <tr>\n",
       "      <th>8</th>\n",
       "      <td>0.755</td>\n",
       "      <td>42194.687201</td>\n",
       "    </tr>\n",
       "    <tr>\n",
       "      <th>4</th>\n",
       "      <td>1.650</td>\n",
       "      <td>41878.929447</td>\n",
       "    </tr>\n",
       "    <tr>\n",
       "      <th>17</th>\n",
       "      <td>1.703</td>\n",
       "      <td>41860.419669</td>\n",
       "    </tr>\n",
       "  </tbody>\n",
       "</table>\n",
       "</div>"
      ],
      "text/plain": [
       "        0             1\n",
       "13  0.672  42224.276915\n",
       "0   0.755  42194.687201\n",
       "8   0.755  42194.687201\n",
       "4   1.650  41878.929447\n",
       "17  1.703  41860.419669"
      ]
     },
     "execution_count": 79,
     "metadata": {},
     "output_type": "execute_result"
    },
    {
     "data": {
      "image/png": "[encoded data removed]",
      "text/plain": [
       "<Figure size 640x480 with 1 Axes>"
      ]
     },
     "metadata": {},
     "output_type": "display_data"
    }
   ],
   "source": [
    "plt.figure(2)\n",
    "plt.scatter(camaros_trimmed[\"mileage\"].values.astype(float)/1000, camaros_trimmed[\"price\"])\n",
    "plt.xlabel(\"miles (1000s)\")\n",
    "plt.ylabel(\"pct depreciation\")\n",
    "\n",
    "work_price = exp_decay(camaros_trimmed[\"mileage\"].values.astype(float)/1000, popt[0], popt[1], popt[2])\n",
    "\n",
    "fuckyou = pd.DataFrame([camaros_trimmed[\"mileage\"].values.astype(float)/1000, work_price])\n",
    "fuckyou = fuckyou.T\n",
    "fuckyou.sort_values(0,inplace=True)\n",
    "\n",
    "plt.plot(fuckyou[0], fuckyou[1], c=\"red\")\n",
    "plt.grid()\n",
    "\n",
    "fuckyou.head()"
   ]
  }
 ],
 "metadata": {
  "kernelspec": {
   "display_name": "Python 3",
   "language": "python",
   "name": "python3"
  },
  "language_info": {
   "codemirror_mode": {
    "name": "ipython",
    "version": 3
   },
   "file_extension": ".py",
   "mimetype": "text/x-python",
   "name": "python",
   "nbconvert_exporter": "python",
   "pygments_lexer": "ipython3",
   "version": "3.10.9"
  },
  "orig_nbformat": 4
 },
 "nbformat": 4,
 "nbformat_minor": 2
}
