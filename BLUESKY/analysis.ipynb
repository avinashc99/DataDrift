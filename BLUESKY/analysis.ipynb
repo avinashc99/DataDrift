{
 "cells": [
  {
   "cell_type": "markdown",
   "metadata": {},
   "source": [
    "# BLUESKY\n",
    "\n",
    "This notebook demos the webscraping and analysis abilities of BLUESKY.\n",
    "BLUESKY is a Python package that returns information about vehicle prices."
   ]
  },
  {
   "cell_type": "code",
   "execution_count": 6,
   "metadata": {},
   "outputs": [],
   "source": [
    "# IMPORT STATEMENTS\n",
    "from BLUESKY.scrapers.bs4_scraper import scrape_data_payload\n",
    "from BLUESKY.scrapers.genurls import gen_cars_com_urls\n",
    "\n",
    "import matplotlib.pyplot as plt\n",
    "import pandas as pd\n",
    "import numpy as np"
   ]
  },
  {
   "cell_type": "markdown",
   "metadata": {},
   "source": [
    "Generating Target URLS to scrape from"
   ]
  },
  {
   "cell_type": "code",
   "execution_count": 28,
   "metadata": {},
   "outputs": [],
   "source": [
    "makes = [\"ford\", \"toyota\", \"toyota\", ]\n",
    "models = [\"mustang\", \"camry\", \"supra\",]\n",
    "# TODO the generator should probably be rewritten to take a dict for make and model\n",
    "# {\"ford\": [\"mustang\"], \"toyota\": [\"supra\", \"camry\"], \"acura\": [\"integra\"], }\n",
    "url_targets = gen_cars_com_urls(makes=makes,models=models)\n",
    "#url_targets"
   ]
  },
  {
   "cell_type": "code",
   "execution_count": 9,
   "metadata": {},
   "outputs": [],
   "source": [
    "temp = scrape_data_payload(url_targets)"
   ]
  },
  {
   "cell_type": "markdown",
   "metadata": {},
   "source": [
    "Processing the scraped data"
   ]
  },
  {
   "cell_type": "code",
   "execution_count": 20,
   "metadata": {},
   "outputs": [],
   "source": [
    "columns = [\"make\", \"model\", \"model_year\", \"trim\", \"mileage\", \"price\", \"listing_id\"]\n",
    "\n",
    "df = pd.DataFrame(temp, columns=columns)"
   ]
  },
  {
   "cell_type": "code",
   "execution_count": 30,
   "metadata": {},
   "outputs": [],
   "source": [
    "mustangs = df[\n",
    "    (df[\"make\"] == \"ford\")\n",
    "    & (df[\"model\"] == \"mustang\")\n",
    "    & (df[\"trim\"].str.contains(\"gt\"))\n",
    "]\n",
    "\n",
    "supras = df[\n",
    "    (df[\"make\"] == \"toyota\")\n",
    "    & (df[\"model\"] == \"supra\")\n",
    "    & (df[\"trim\"].str.contains(\"3.0\"))\n",
    "]\n",
    "\n",
    "camrys = df[\n",
    "    (df[\"make\"] == \"toyota\")\n",
    "    & (df[\"model\"] == \"camry\")\n",
    "    & (df[\"trim\"] == \"se\")\n",
    "]\n"
   ]
  },
  {
   "cell_type": "markdown",
   "metadata": {},
   "source": [
    "Beginning analysis. \n",
    "\n",
    "TODO:\n",
    "- change model years to delta time from present\n",
    "- depreciation per mile, per year\n",
    "    - per mile per year?"
   ]
  }
 ],
 "metadata": {
  "kernelspec": {
   "display_name": "Python 3",
   "language": "python",
   "name": "python3"
  },
  "language_info": {
   "codemirror_mode": {
    "name": "ipython",
    "version": 3
   },
   "file_extension": ".py",
   "mimetype": "text/x-python",
   "name": "python",
   "nbconvert_exporter": "python",
   "pygments_lexer": "ipython3",
   "version": "3.10.9"
  },
  "orig_nbformat": 4
 },
 "nbformat": 4,
 "nbformat_minor": 2
}
